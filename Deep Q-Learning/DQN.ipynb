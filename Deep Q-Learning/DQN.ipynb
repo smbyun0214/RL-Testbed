{
 "metadata": {
  "language_info": {
   "codemirror_mode": {
    "name": "ipython",
    "version": 3
   },
   "file_extension": ".py",
   "mimetype": "text/x-python",
   "name": "python",
   "nbconvert_exporter": "python",
   "pygments_lexer": "ipython3",
   "version": "3.9.2"
  },
  "orig_nbformat": 2,
  "kernelspec": {
   "name": "python392jvsc74a57bd072f82c1a1813237a015b4f4b2159de22a2fabef90219bd259332cc8881f19581",
   "display_name": "Python 3.9.2 64-bit ('py3': conda)"
  }
 },
 "nbformat": 4,
 "nbformat_minor": 2,
 "cells": [
  {
   "cell_type": "code",
   "execution_count": null,
   "metadata": {},
   "outputs": [],
   "source": [
    "# pip install gym, atari-py"
   ]
  },
  {
   "cell_type": "code",
   "execution_count": null,
   "metadata": {},
   "outputs": [],
   "source": [
    "import gym\n",
    "import numpy as np\n",
    "import tensorflow as tf\n",
    "\n",
    "from PIL import Image\n",
    "from collections import deque"
   ]
  },
  {
   "cell_type": "code",
   "execution_count": null,
   "metadata": {},
   "outputs": [],
   "source": [
    "class Model(tf.keras.Model):\n",
    "\n",
    "    def __init__(self, output_size):\n",
    "        super(Model, self).__init__()\n",
    "\n",
    "        self.output_size = output_size\n",
    "        \n",
    "        self.cnn1 = tf.keras.layers.Conv2D(\n",
    "            filters=16,\n",
    "            kernel_size=(8, 8), strides=(4, 4),\n",
    "            activation=tf.keras.activations.relu)\n",
    "        self.cnn2 = tf.keras.layers.Conv2D(\n",
    "            filters=32,\n",
    "            kernel_size=(4, 4), strides=(2, 2),\n",
    "            activation=tf.keras.activations.relu)\n",
    "        self.dense1 = tf.keras.layers.Dense(256, activation=tf.nn.relu)\n",
    "        self.dense2 = tf.keras.layers.Dense(self.output_size)\n",
    "\n",
    "\n",
    "    def call(self, inputs):\n",
    "        inputs = tf.cast(inputs, dtype=tf.float32)\n",
    "        inputs = tf.transpose(inputs, [0, 2, 3, 1])\n",
    "        x = self.cnn1(inputs)\n",
    "        x = self.cnn2(x)\n",
    "        x = tf.keras.layers.Flatten()(x)\n",
    "        x = self.dense1(x)\n",
    "        return self.dense2(x)"
   ]
  },
  {
   "cell_type": "code",
   "execution_count": null,
   "metadata": {},
   "outputs": [],
   "source": [
    "def preprocessing(observation):\n",
    "    image = Image.fromarray(observation)\n",
    "\n",
    "    width, height = 84, 110\n",
    "    grayscale = image.convert(\"L\")\n",
    "    resized = grayscale.resize((width, height))\n",
    "\n",
    "    left, upper, right, lower = 0, 18, 0+width, 18+width\n",
    "    cropped = resized.crop((left, upper, right, lower))\n",
    "    return np.asarray(cropped)"
   ]
  },
  {
   "cell_type": "code",
   "execution_count": null,
   "metadata": {},
   "outputs": [],
   "source": [
    "def epsilon_greedy_policy(model, state, epsilon=0.1):\n",
    "    action_space = model.output_size\n",
    "    if np.random.sample() < epsilon:\n",
    "        return np.random.randint(0, action_space)\n",
    "\n",
    "    return tf.math.argmax(model(state), axis=1)[0]"
   ]
  },
  {
   "cell_type": "code",
   "execution_count": null,
   "metadata": {},
   "outputs": [],
   "source": [
    "def train(model, target_model, mini_batch, optimizer, discount_factor=0.9):\n",
    "    state, action, reward, next_state, done = [], [], [], [], []\n",
    "\n",
    "    for _state, _action, _reward, _next_state, _done in mini_batch:\n",
    "        state.append(_state[0])\n",
    "        action.append([ _action ])\n",
    "        reward.append([ _reward ])\n",
    "        next_state.append(_next_state[0])\n",
    "        done.append([ 0 if _done else 1 ])\n",
    "\n",
    "    state = tf.Variable(state)\n",
    "    action = tf.Variable(action)\n",
    "    reward = tf.Variable(reward, dtype=tf.float32)\n",
    "    next_state = tf.Variable(next_state)\n",
    "    done = tf.Variable(done, dtype=tf.float32)\n",
    "\n",
    "    target_q = reward + discount_factor * tf.math.reduce_max(target_model(next_state), axis=1, keepdims=True) * done\n",
    "    target_q = tf.squeeze(target_q)\n",
    "\n",
    "    with tf.GradientTape() as tape:\n",
    "        q = tf.gather_nd(model(state), action, batch_dims=1)\n",
    "        loss = tf.losses.mean_squared_error(target_q, q)\n",
    "    optimizer.minimize(loss, var_list=model.trainable_weights, tape=tape)\n",
    "    return loss"
   ]
  },
  {
   "cell_type": "code",
   "execution_count": null,
   "metadata": {
    "tags": []
   },
   "outputs": [],
   "source": [
    "env = gym.make('Breakout-v0')\n",
    "\n",
    "action_space = env.action_space.n\n",
    "\n",
    "skipframe = 4\n",
    "batch_size = 32\n",
    "max_episode = 100000\n",
    "replay_memory_maxlen = int(1e+6)\n",
    "learning_rate=0.000001\n",
    "epsilon = 1.0\n",
    "opt = tf.keras.optimizers.RMSprop()\n",
    "\n",
    "model = Model(action_space)\n",
    "target_model = Model(action_space)\n",
    "\n",
    "replay_buffer = deque(maxlen=replay_memory_maxlen)\n",
    "observation_buffer = deque(maxlen=skipframe)"
   ]
  },
  {
   "cell_type": "code",
   "execution_count": null,
   "metadata": {
    "tags": []
   },
   "outputs": [],
   "source": [
    "try:\n",
    "    model(tf.ones((1, 4, 84, 84)))\n",
    "    target_model(tf.ones((1, 4, 84, 84)))\n",
    "    target_model.set_weights(model.get_weights())\n",
    "\n",
    "    step = 1\n",
    "\n",
    "    for episode in range(max_episode):\n",
    "        episode_done = False\n",
    "        observation_buffer.clear()\n",
    "        lives = 5\n",
    "\n",
    "        observation = env.reset()\n",
    "        print(\"EPISODE:\", episode + 1, observation.shape)\n",
    "        observation = preprocessing(observation)\n",
    "\n",
    "        while len(observation_buffer) < observation_buffer.maxlen:\n",
    "            observation_buffer.append(observation)\n",
    "\n",
    "        while not episode_done:\n",
    "            state = np.expand_dims(observation_buffer, axis=0)\n",
    "            \n",
    "            action = epsilon_greedy_policy(model, state, max(0.1, epsilon - 0.9/1000000*step))\n",
    "            reward_sum = 0\n",
    "            done = False\n",
    "            loss = []\n",
    "\n",
    "            for _ in range(skipframe):\n",
    "                if not done:\n",
    "                    env.render()\n",
    "                    next_observation, reward, episode_done, etc = env.step(action)\n",
    "                    next_observation = preprocessing(next_observation)\n",
    "                    done = episode_done\n",
    "                observation_buffer.append(next_observation)\n",
    "                reward_sum += -1 if etc['ale.lives'] != lives else reward\n",
    "                lives = etc['ale.lives']\n",
    "\n",
    "            next_state = np.expand_dims(observation_buffer, axis=0)\n",
    "            replay_buffer.append((state, action, reward_sum, next_state, done))\n",
    "\n",
    "            if len(replay_buffer) > 10000:\n",
    "                mini_batch = [\n",
    "                    replay_buffer[index]\n",
    "                    for index in np.random.choice(len(replay_buffer), batch_size, replace=False) ]\n",
    "                loss.append(train(model, target_model, mini_batch, opt))\n",
    "            \n",
    "            if step % 1000 == 0 and model.get_weights():\n",
    "                target_model.set_weights(model.get_weights())\n",
    "\n",
    "            step += 1\n",
    "\n",
    "        if loss:\n",
    "            print(np.mean(loss))\n",
    "        model.save_weights('./checkpoints/my_checkpoint')\n",
    "finally:\n",
    "    env.close()"
   ]
  },
  {
   "cell_type": "code",
   "execution_count": null,
   "metadata": {},
   "outputs": [],
   "source": [
    "try:\n",
    "    model(tf.ones((1, 4, 84, 84)))\n",
    "    model.load_weights('./checkpoints/my_checkpoint')\n",
    "\n",
    "    for episode in range(max_episode):\n",
    "        episode_done = False\n",
    "        observation_buffer.clear()\n",
    "\n",
    "        observation = env.reset()\n",
    "        observation = preprocessing(observation)\n",
    "\n",
    "        while len(observation_buffer) < observation_buffer.maxlen:\n",
    "            observation_buffer.append(observation)\n",
    "\n",
    "        while not episode_done:\n",
    "            env.render()\n",
    "            state = np.expand_dims(observation_buffer, axis=0)\n",
    "            action = epsilon_greedy_policy(model, state, 0)\n",
    "            next_observation, reward, episode_done, etc = env.step(action)\n",
    "            next_observation = preprocessing(next_observation)\n",
    "            observation_buffer.append(next_observation)\n",
    "finally:\n",
    "    env.close()"
   ]
  },
  {
   "cell_type": "code",
   "execution_count": null,
   "metadata": {},
   "outputs": [],
   "source": []
  }
 ]
}