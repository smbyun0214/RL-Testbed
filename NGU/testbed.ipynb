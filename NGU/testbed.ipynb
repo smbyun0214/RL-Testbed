{
 "metadata": {
  "language_info": {
   "codemirror_mode": {
    "name": "ipython",
    "version": 3
   },
   "file_extension": ".py",
   "mimetype": "text/x-python",
   "name": "python",
   "nbconvert_exporter": "python",
   "pygments_lexer": "ipython3",
   "version": "3.9.2"
  },
  "orig_nbformat": 4,
  "kernelspec": {
   "name": "python3",
   "display_name": "Python 3.9.2 64-bit ('py3': conda)"
  },
  "interpreter": {
   "hash": "72f82c1a1813237a015b4f4b2159de22a2fabef90219bd259332cc8881f19581"
  }
 },
 "nbformat": 4,
 "nbformat_minor": 2,
 "cells": [
  {
   "cell_type": "code",
   "execution_count": 82,
   "source": [
    "import tensorflow as tf\n",
    "import numpy as np"
   ],
   "outputs": [],
   "metadata": {}
  },
  {
   "cell_type": "code",
   "execution_count": 99,
   "source": [
    "class R2D2(tf.keras.Model):\n",
    "    def __init__(self, num_of_actions):\n",
    "        super(R2D2, self).__init__()\n",
    "        self.num_of_actions = num_of_actions\n",
    "\n",
    "        self.cnn1 = tf.keras.layers.TimeDistributed(\n",
    "            tf.keras.layers.Conv2D(\n",
    "                32, kernel_size=(8, 8), strides=(4, 4),\n",
    "                activation=tf.keras.activations.relu, padding='same'))\n",
    "        self.cnn2 = tf.keras.layers.TimeDistributed(\n",
    "            tf.keras.layers.Conv2D(\n",
    "                64, kernel_size=(4, 4), strides=(2, 2),\n",
    "                activation=tf.keras.activations.relu, padding='same'))\n",
    "        self.cnn3 = tf.keras.layers.TimeDistributed(\n",
    "            tf.keras.layers.Conv2D(\n",
    "                64, kernel_size=(3, 3), strides=(1, 1),\n",
    "                activation=tf.keras.activations.relu, padding='same'))\n",
    "        self.flatten = tf.keras.layers.TimeDistributed(\n",
    "            tf.keras.layers.Flatten())\n",
    "        self.dense = tf.keras.layers.TimeDistributed(\n",
    "            tf.keras.layers.Dense(\n",
    "                512, activation=tf.keras.activations.relu))\n",
    "        \n",
    "        self.lstm = tf.keras.layers.LSTM(512)\n",
    "\n",
    "        self.dense11 = tf.keras.layers.Dense(\n",
    "            512, activation=tf.keras.activations.relu)\n",
    "        self.dense12 = tf.keras.layers.Dense(1)\n",
    "        \n",
    "        self.dense21 = tf.keras.layers.Dense(\n",
    "            512, activation=tf.keras.activations.relu)\n",
    "        self.dense22 = tf.keras.layers.Dense(18)\n",
    "    \n",
    "    def call(self, x, a, re, ri, beta):\n",
    "        input = x\n",
    "        x = self.cnn1(input)\n",
    "        x = self.cnn2(x)\n",
    "        x = self.cnn3(x)\n",
    "        x = self.flatten(x)\n",
    "        x = self.dense(x)\n",
    "\n",
    "        a = tf.one_hot(a, self.num_of_actions)\n",
    "        print(x.shape, a.shape, re.shape, ri.shape, beta.shape)\n",
    "        concat = tf.concat([x, a, re, ri, beta], axis=2)\n",
    "        \n",
    "        x = self.lstm(concat)\n",
    "\n",
    "        x1 = self.dense11(x)\n",
    "        x1 = self.dense12(x1)\n",
    "\n",
    "        x2 = self.dense21(x)\n",
    "        x2 = self.dense22(x2)\n",
    "\n",
    "        output = x1 + x2 - tf.math.reduce_mean(x2, axis=1)\n",
    "        return output"
   ],
   "outputs": [],
   "metadata": {}
  },
  {
   "cell_type": "code",
   "execution_count": 100,
   "source": [
    "num_of_actions = 4\n",
    "batch_size = 1\n",
    "time_sequence = 32\n",
    "x = tf.random.normal((batch_size, time_sequence, 50, 50, 1))\n",
    "a = tf.convert_to_tensor(np.random.choice(num_of_actions, size=(batch_size, time_sequence)))\n",
    "re = tf.random.normal((batch_size, time_sequence, 1))\n",
    "ri = tf.random.normal((batch_size, time_sequence, 1))\n",
    "beta = tf.random.normal((batch_size, time_sequence, 1))"
   ],
   "outputs": [],
   "metadata": {}
  },
  {
   "cell_type": "code",
   "execution_count": 101,
   "source": [
    "agent = R2D2(num_of_actions)"
   ],
   "outputs": [],
   "metadata": {}
  },
  {
   "cell_type": "code",
   "execution_count": 102,
   "source": [
    "agent(x, a, re, ri, beta)"
   ],
   "outputs": [
    {
     "output_type": "stream",
     "name": "stdout",
     "text": [
      "(1, 32, 512) (1, 32, 4) (1, 32, 1) (1, 32, 1) (1, 32, 1)\n"
     ]
    },
    {
     "output_type": "execute_result",
     "data": {
      "text/plain": [
       "<tf.Tensor: shape=(1, 18), dtype=float32, numpy=\n",
       "array([[ 0.02619118,  0.0324901 , -0.10092699,  0.05801334, -0.01880517,\n",
       "        -0.01457014,  0.01139851, -0.04672857, -0.05129401, -0.02857853,\n",
       "        -0.09235153, -0.11016186, -0.0274087 , -0.02625233, -0.10065489,\n",
       "         0.00820833, -0.00032712, -0.0110217 ]], dtype=float32)>"
      ]
     },
     "metadata": {},
     "execution_count": 102
    }
   ],
   "metadata": {}
  },
  {
   "cell_type": "code",
   "execution_count": 4,
   "source": [
    "# from moving_average import MovingAverage\n",
    "from episodic_novelty import EpisodicNovelty\n",
    "from life_long_novelty import LifeLongNovelty"
   ],
   "outputs": [],
   "metadata": {}
  },
  {
   "cell_type": "code",
   "execution_count": 5,
   "source": [
    "num_of_actions = 4\n",
    "\n",
    "episodic_novelty_module = EpisodicNovelty(num_of_actions)\n",
    "life_long_novelty_module = LifeLongNovelty()"
   ],
   "outputs": [],
   "metadata": {}
  },
  {
   "cell_type": "code",
   "execution_count": 8,
   "source": [
    "import tensorflow as tf\n",
    "num_of_actions = 4\n",
    "batch_size = 1\n",
    "time_sequence = 32\n",
    "obs = tf.random.normal((batch_size, time_sequence, 50, 50, 1))\n",
    "next_obs = tf.random.normal((batch_size, time_sequence, 50, 50, 1))\n",
    "\n",
    "L = 5\n",
    "episodic_reward = episodic_novelty_module(obs, next_obs)\n",
    "modulator = life_long_novelty_module(obs)\n",
    "intrinsic_reward = episodic_reward * tf.minimum(tf.maximum(modulator, 1), L)"
   ],
   "outputs": [],
   "metadata": {}
  },
  {
   "cell_type": "code",
   "execution_count": 9,
   "source": [
    "intrinsic_reward"
   ],
   "outputs": [
    {
     "output_type": "execute_result",
     "data": {
      "text/plain": [
       "<tf.Tensor: shape=(1, 32, 128), dtype=float32, numpy=\n",
       "array([[[0.06521409, 0.03260705, 0.03260705, ..., 0.03260705,\n",
       "         0.03260705, 0.03260705],\n",
       "        [0.03260705, 0.06521409, 0.06521409, ..., 0.03260705,\n",
       "         0.06521408, 0.06521409],\n",
       "        [0.06521409, 0.03260705, 0.06521409, ..., 0.06521409,\n",
       "         0.03260705, 0.06521409],\n",
       "        ...,\n",
       "        [0.06521409, 0.06521409, 0.06521409, ..., 0.03260705,\n",
       "         0.03260705, 0.06521409],\n",
       "        [0.03260705, 0.03260705, 0.0652141 , ..., 0.06521409,\n",
       "         0.03260705, 0.03260705],\n",
       "        [0.03260705, 0.06521409, 0.03260705, ..., 0.06521409,\n",
       "         0.03260705, 0.03260705]]], dtype=float32)>"
      ]
     },
     "metadata": {},
     "execution_count": 9
    }
   ],
   "metadata": {}
  }
 ]
}